{
 "cells": [
  {
   "cell_type": "markdown",
   "id": "a0710bbb-a8b7-4453-acd8-fbffd9bbf3b7",
   "metadata": {},
   "source": [
    "# Eye tracking: Web Accessibility"
   ]
  },
  {
   "cell_type": "code",
   "execution_count": 53,
   "id": "69d51097-8b15-4b25-b001-8937367ff502",
   "metadata": {},
   "outputs": [
    {
     "name": "stdout",
     "output_type": "stream",
     "text": [
      " shape\n"
     ]
    },
    {
     "ename": "IndexError",
     "evalue": "list index out of range",
     "output_type": "error",
     "traceback": [
      "\u001b[0;31m---------------------------------------------------------------------------\u001b[0m",
      "\u001b[0;31mIndexError\u001b[0m                                Traceback (most recent call last)",
      "Input \u001b[0;32mIn [53]\u001b[0m, in \u001b[0;36m<cell line: 12>\u001b[0;34m()\u001b[0m\n\u001b[1;32m     10\u001b[0m \u001b[38;5;28mprint\u001b[39m(data[\u001b[38;5;241m1\u001b[39m][\u001b[38;5;241m1\u001b[39m])\n\u001b[1;32m     12\u001b[0m \u001b[38;5;28;01mfor\u001b[39;00m row \u001b[38;5;129;01min\u001b[39;00m data[\u001b[38;5;241m1\u001b[39m:]:\n\u001b[0;32m---> 13\u001b[0m     awareness \u001b[38;5;241m=\u001b[39m \u001b[43mrow\u001b[49m\u001b[43m[\u001b[49m\u001b[38;5;241;43m7\u001b[39;49m\u001b[43m]\u001b[49m\n\u001b[1;32m     14\u001b[0m     awareness\u001b[38;5;241m.\u001b[39mappend(awareness)\n\u001b[1;32m     16\u001b[0m \u001b[38;5;28mprint\u001b[39m(awareness[:\u001b[38;5;241m5\u001b[39m])\n",
      "\u001b[0;31mIndexError\u001b[0m: list index out of range"
     ]
    }
   ],
   "source": [
    "#Import data set\n",
    "opened_file = open('questionnaire.csv', encoding='utf8')\n",
    "from csv import reader\n",
    "read_file = reader(opened_file)\n",
    "data = list(read_file)\n",
    "\n",
    "#Create an empty list\n",
    "awareness = []\n",
    "\n",
    "print(data[1][1])\n",
    "\n",
    "for row in data[1:]:\n",
    "    awareness = row[7]\n",
    "    awareness.append(awareness)\n",
    "    \n",
    "print(awareness[:5])"
   ]
  },
  {
   "cell_type": "markdown",
   "id": "4212018f-26a9-4caa-8683-5c7be512394a",
   "metadata": {},
   "source": [
    "Anweisung: 10 Webseiten werden getestet pro Person (wieviele Personen) 20 Sekunden\n",
    "\n",
    "Tool: Data-Viewer von SR Research;\n",
    "Daten werden als Reports ausgegeben bzw. auch Visualisierungen (Heatmaps, Gazeplots) und Grafiken speichern.\n",
    "Es werden AOIs definiert - AOI-Reports anfertigen"
   ]
  },
  {
   "cell_type": "markdown",
   "id": "7438813d-fd14-4da8-8a90-025dc5c8cd54",
   "metadata": {},
   "source": [
    "## Question 1: Please rate the websites in terms of structure"
   ]
  },
  {
   "cell_type": "code",
   "execution_count": 19,
   "id": "3f515fa4-f3ea-4cca-8b78-48401358baaa",
   "metadata": {},
   "outputs": [],
   "source": [
    "# 1 = very bad, 5 = very good\n",
    "\n",
    "#Create an empty list\n",
    "website_structure = []"
   ]
  },
  {
   "cell_type": "markdown",
   "id": "3568c260-a364-4b21-a6bb-ba06ecab635a",
   "metadata": {},
   "source": [
    "## Question 2: Please rate the websites in terms of appearance/style"
   ]
  },
  {
   "cell_type": "code",
   "execution_count": 15,
   "id": "454522bb-07b5-4883-9969-e10ee9ec1449",
   "metadata": {},
   "outputs": [],
   "source": [
    "# 1 = very bad, 5 = very good\n",
    "\n",
    "#Create an empty list\n",
    "website_style = []"
   ]
  },
  {
   "cell_type": "markdown",
   "id": "8dce7b4d-2845-4c58-97c4-6a78f24cea6d",
   "metadata": {},
   "source": [
    "## Question 3: Do you know what **web accessibility** is?"
   ]
  },
  {
   "cell_type": "code",
   "execution_count": 54,
   "id": "b343236f-4d78-45cc-be81-3163ff1f7a6a",
   "metadata": {},
   "outputs": [],
   "source": [
    "# 1 = not at all, 2 = I can only imagine, 3 = I have an idea, 4 = absolutely yes\n",
    "\n",
    "#Create an empty list\n",
    "awareness = []\n"
   ]
  },
  {
   "cell_type": "markdown",
   "id": "ab5cecf8-5718-49e8-b19d-e34101990e85",
   "metadata": {},
   "source": [
    "## Question 4: Please rate the website in terms of **web accessibility**"
   ]
  },
  {
   "cell_type": "code",
   "execution_count": 20,
   "id": "a3244390-adec-424d-a305-aaa86b00a324",
   "metadata": {},
   "outputs": [],
   "source": [
    "# 1 = very bad, 5 = very good\n",
    "\n",
    "#Create an empty list\n",
    "accessibility_rating = []"
   ]
  },
  {
   "cell_type": "markdown",
   "id": "73b9bf88-a2dc-4c89-ba4c-2fd00d4e30dc",
   "metadata": {},
   "source": [
    "## Question 5: What was the basis of your rating for **web accessibility**? Use keywords."
   ]
  },
  {
   "cell_type": "code",
   "execution_count": 21,
   "id": "1fab7aeb-7ae9-4c2c-b211-1be6737929b3",
   "metadata": {},
   "outputs": [],
   "source": [
    "# I rated websites higher in accessibility if they ...\n",
    "\n",
    "#Create an empty list\n",
    "higher_ranking = []"
   ]
  },
  {
   "cell_type": "code",
   "execution_count": 22,
   "id": "5611ee45-9e53-447d-8c59-2c680397212c",
   "metadata": {},
   "outputs": [],
   "source": [
    "# I rated websites lower in accessibility if they ...\n",
    "\n",
    "#Create an empty list\n",
    "lower_ranking = []"
   ]
  },
  {
   "cell_type": "markdown",
   "id": "e1cb2110-9a8c-4cdf-9b9b-8509247cad1f",
   "metadata": {},
   "source": [
    "## Question 6: In overall appearance, which are the three websites you personally prefer?"
   ]
  },
  {
   "cell_type": "code",
   "execution_count": 18,
   "id": "0111084a-d446-425b-9e2a-7c8318d557e0",
   "metadata": {},
   "outputs": [],
   "source": [
    "# Winner, 2nd, 3rd\n",
    "\n",
    "#Create an empty list\n",
    "website_ranking = []"
   ]
  }
 ],
 "metadata": {
  "kernelspec": {
   "display_name": "Python 3 (ipykernel)",
   "language": "python",
   "name": "python3"
  },
  "language_info": {
   "codemirror_mode": {
    "name": "ipython",
    "version": 3
   },
   "file_extension": ".py",
   "mimetype": "text/x-python",
   "name": "python",
   "nbconvert_exporter": "python",
   "pygments_lexer": "ipython3",
   "version": "3.9.12"
  }
 },
 "nbformat": 4,
 "nbformat_minor": 5
}
